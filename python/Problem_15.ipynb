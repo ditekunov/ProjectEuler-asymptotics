{
 "cells": [
  {
   "cell_type": "markdown",
   "metadata": {
    "collapsed": true
   },
   "source": [
    "### Problem 15: Lattice paths"
   ]
  },
  {
   "cell_type": "markdown",
   "metadata": {},
   "source": [
    "Basic recursive approach will not work in this situation, as the size of the square is too big, so we'll just use a common math algorithm for matrixes:"
   ]
  },
  {
   "cell_type": "code",
   "execution_count": 15,
   "metadata": {},
   "outputs": [
    {
     "name": "stdout",
     "output_type": "stream",
     "text": [
      "137846528820\nTime taken:  0.0002028942108154297\n"
     ]
    }
   ],
   "source": [
    "import time\n",
    "\n",
    "def routes(cube_size):\n",
    "    matrix = [1] * cube_size\n",
    "    for i in range(cube_size):\n",
    "        for j in range(i):\n",
    "            matrix[j] = matrix[j]+matrix[j-1]\n",
    "        matrix[i] = 2 * matrix[i - 1]\n",
    "    return matrix[cube_size - 1]\n",
    "\n",
    "\n",
    "start = time.time()\n",
    "print(routes(20))\n",
    "finish = time.time() - start\n",
    "print(\"Time taken: \", finish)"
   ]
  },
  {
   "cell_type": "markdown",
   "metadata": {},
   "source": [
    "Final complexity is O(n^2*log n)"
   ]
  }
 ],
 "metadata": {
  "kernelspec": {
   "display_name": "Python 2",
   "language": "python",
   "name": "python2"
  },
  "language_info": {
   "codemirror_mode": {
    "name": "ipython",
    "version": 2
   },
   "file_extension": ".py",
   "mimetype": "text/x-python",
   "name": "python",
   "nbconvert_exporter": "python",
   "pygments_lexer": "ipython2",
   "version": "2.7.6"
  }
 },
 "nbformat": 4,
 "nbformat_minor": 0
}
