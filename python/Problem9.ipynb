{
 "cells": [
  {
   "cell_type": "markdown",
   "metadata": {
    "collapsed": true
   },
   "source": [
    "### Task 9: Special Pythagorean triplet"
   ]
  },
  {
   "cell_type": "markdown",
   "metadata": {},
   "source": [
    "As usual, let's start with an O(n^3) brute force, that is going to be really slow this time."
   ]
  },
  {
   "cell_type": "code",
   "execution_count": 2,
   "metadata": {},
   "outputs": [
    {
     "name": "stdout",
     "output_type": "stream",
     "text": [
      "31875000\nTime in seconds:  241.54908394813538\n"
     ]
    }
   ],
   "source": [
    "import time\n",
    "\n",
    "start = time.time()\n",
    "p_a = 0\n",
    "p_b = 0 \n",
    "p_c = 0\n",
    "\n",
    "for a in range(1, 998):\n",
    "    for b in range(a+1, 998):\n",
    "        for c in range(b+1, 998):\n",
    "            if pow(a, 2) + pow(b, 2) == pow(c, 2) and a+b+c == 1000:\n",
    "                p_a, p_b, p_c = a, b, c\n",
    "                break\n",
    "\n",
    "print(p_a * p_b * p_c)\n",
    "\n",
    "finish = time.time() - start\n",
    "print(\"Time in seconds: \", finish)"
   ]
  },
  {
   "cell_type": "markdown",
   "metadata": {},
   "source": [
    "This solutuion is dramatically slow, let's try to pre-generate the list of squres and then look over them, to reduce one of the cycles:"
   ]
  },
  {
   "cell_type": "code",
   "execution_count": 3,
   "metadata": {},
   "outputs": [
    {
     "name": "stdout",
     "output_type": "stream",
     "text": [
      "31875000\nTime in seconds:  7.028997182846069\n"
     ]
    }
   ],
   "source": [
    "start = time.time()\n",
    "\n",
    "max_sq = 0\n",
    "list_squares = list()\n",
    "\n",
    "max_sq_2 = 0\n",
    "max_a = 0\n",
    "max_b = 0\n",
    "\n",
    "for i in range(1, 1000):\n",
    "    list_squares.append(pow(i, 2))\n",
    "\n",
    "for a in range(1, 998):\n",
    "    for b in range(a+1, 998):\n",
    "        if list_squares.__contains__(pow(a, 2) + pow(b, 2)) and (pow(a, 2) + pow(b, 2)) < 1000000:\n",
    "            if a * b * (1000 - (a+b)) > max_sq and (pow(a, 2) + pow(b, 2)) == pow((1000 - (a+b)), 2):\n",
    "                max_sq = a * b * (1000 - (a+b))\n",
    "\n",
    "print(max_sq)\n",
    "\n",
    "finish = time.time() - start\n",
    "print(\"Time in seconds: \", finish)"
   ]
  },
  {
   "cell_type": "markdown",
   "metadata": {},
   "source": [
    "This solution has about ~O(n^2) complexity and is much better, but we can improve executed time a little bit more using the following algorithm:"
   ]
  },
  {
   "cell_type": "code",
   "execution_count": null,
   "metadata": {},
   "outputs": [],
   "source": [
    "for i in range(1,n):\n",
    "        for j in range(1,n-i,1):\n",
    "            k = n-i-j\n",
    "            if i**2+j**2==k**2:"
   ]
  }
 ],
 "metadata": {
  "kernelspec": {
   "display_name": "Python 2",
   "language": "python",
   "name": "python2"
  },
  "language_info": {
   "codemirror_mode": {
    "name": "ipython",
    "version": 2
   },
   "file_extension": ".py",
   "mimetype": "text/x-python",
   "name": "python",
   "nbconvert_exporter": "python",
   "pygments_lexer": "ipython2",
   "version": "2.7.6"
  }
 },
 "nbformat": 4,
 "nbformat_minor": 0
}
