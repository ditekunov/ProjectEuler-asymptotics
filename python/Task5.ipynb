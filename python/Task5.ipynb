{
 "cells": [
  {
   "cell_type": "markdown",
   "metadata": {
    "collapsed": true
   },
   "source": [
    "### Task 5: Smallest multiple"
   ]
  },
  {
   "cell_type": "markdown",
   "metadata": {},
   "source": [
    "As allways, we'll start with a simple bruteforce, but, though, the algorithm has O(N) speed, we'll make an upper border for N to prevent too time-consuming sollution.\n",
    "\n",
    "So let's start with max(N) = 1000000:"
   ]
  },
  {
   "cell_type": "code",
   "execution_count": 3,
   "metadata": {},
   "outputs": [
    {
     "name": "stdout",
     "output_type": "stream",
     "text": [
      "Time in seconds:  0.25662803649902344\n"
     ]
    }
   ],
   "source": [
    "import time\n",
    "\n",
    "start = time.time()\n",
    "\n",
    "i = 1\n",
    "\n",
    "\n",
    "\n",
    "while i <= 1000000:\n",
    "    if i % 2 == 0 and i % 3 == 0 and i % 4 == 0 and i % 5 == 0 and i % 6 == 0 and i % 7 == 0 and i % 8 == 0 and\\\n",
    "                            i % 9 == 0 and i % 10 == 0 and i % 11 == 0 and i % 12 == 0 and \\\n",
    "                            i % 13 == 0 and i % 14 == 0 and i % 15 == 0 and i % 16 == 0 and\\\n",
    "                            i % 17 == 0 and i % 18 == 0 and i % 19 == 0 and i % 20 == 0:\n",
    "        print(i)\n",
    "    i += 1\n",
    "finish = time.time() - start\n",
    "print(\"Time in seconds: \", finish)"
   ]
  },
  {
   "cell_type": "markdown",
   "metadata": {},
   "source": [
    "The solution with max(N) = 1000000 took ~0.3 seconds, so let's make an upper bound of 5 minutes (300 seconds) and max(N) = 1000000000 and try:"
   ]
  },
  {
   "cell_type": "code",
   "execution_count": 4,
   "metadata": {},
   "outputs": [
    {
     "name": "stdout",
     "output_type": "stream",
     "text": [
      "232792560\nTime in seconds:  62.138298988342285\n"
     ]
    }
   ],
   "source": [
    "import time\n",
    "\n",
    "start = time.time()\n",
    "\n",
    "i = 1\n",
    "\n",
    "\n",
    "\n",
    "while i <= 1000000000:\n",
    "    if i % 2 == 0 and i % 3 == 0 and i % 4 == 0 and i % 5 == 0 and i % 6 == 0 and i % 7 == 0 and i % 8 == 0 and\\\n",
    "                            i % 9 == 0 and i % 10 == 0 and i % 11 == 0 and i % 12 == 0 and \\\n",
    "                            i % 13 == 0 and i % 14 == 0 and i % 15 == 0 and i % 16 == 0 and\\\n",
    "                            i % 17 == 0 and i % 18 == 0 and i % 19 == 0 and i % 20 == 0:\n",
    "        print(i)\n",
    "        break\n",
    "    i += 1\n",
    "finish = time.time() - start\n",
    "print(\"Time in seconds: \", finish)"
   ]
  },
  {
   "cell_type": "markdown",
   "metadata": {},
   "source": [
    "Yet we've found a solution and it took about a minute, which is absolutely not acceptable and let's try to find a better one.\n",
    "\n",
    "We'll start with reducing the constant via increase the step to 20.\n",
    "\n",
    "Why 20? Because our answer should be divisible by 20 in any case:"
   ]
  },
  {
   "cell_type": "code",
   "execution_count": 9,
   "metadata": {},
   "outputs": [
    {
     "name": "stdout",
     "output_type": "stream",
     "text": [
      "232792560\nTime in seconds:  4.121189117431641\n"
     ]
    }
   ],
   "source": [
    "import time\n",
    "\n",
    "start = time.time()\n",
    "\n",
    "i = 20\n",
    "\n",
    "\n",
    "\n",
    "while i <= 1000000000:\n",
    "    if i % 2 == 0 and i % 3 == 0 and i % 4 == 0 and i % 5 == 0 and i % 6 == 0 and i % 7 == 0 and i % 8 == 0 and\\\n",
    "                            i % 9 == 0 and i % 10 == 0 and i % 11 == 0 and i % 12 == 0 and \\\n",
    "                            i % 13 == 0 and i % 14 == 0 and i % 15 == 0 and i % 16 == 0 and\\\n",
    "                            i % 17 == 0 and i % 18 == 0 and i % 19 == 0:\n",
    "        print(i)\n",
    "        break\n",
    "    i += 20\n",
    "finish = time.time() - start\n",
    "print(\"Time in seconds: \", finish)"
   ]
  },
  {
   "cell_type": "markdown",
   "metadata": {},
   "source": [
    "This is better, but still not enough. Let's think more.\n",
    "\n",
    "A number, that is divisible by all the numbers in [1,20] should be divisible by all the primes in this interval:"
   ]
  },
  {
   "cell_type": "code",
   "execution_count": 10,
   "metadata": {},
   "outputs": [
    {
     "name": "stdout",
     "output_type": "stream",
     "text": [
      "232792560\nTime in seconds:  0.0002760887145996094\n"
     ]
    }
   ],
   "source": [
    "import time\n",
    "\n",
    "start = time.time()\n",
    "\n",
    "i = 2*3*5*7*11*13*17*19\n",
    "\n",
    "\n",
    "\n",
    "while i <= 1000000000:\n",
    "    if i % 4 == 0 and i % 6 == 0 and i % 8 == 0 and\\\n",
    "                            i % 9 == 0 and i % 10 == 0 and i % 12 == 0 and \\\n",
    "                            i % 14 == 0 and i % 15 == 0 and i % 16 == 0 and\\\n",
    "                            i % 18 == 0 and i % 20 == 0:\n",
    "        print(i)\n",
    "        break\n",
    "    i += 2*3*5*7*11*13*17*19\n",
    "finish = time.time() - start\n",
    "print(\"Time in seconds: \", finish)"
   ]
  },
  {
   "cell_type": "markdown",
   "metadata": {},
   "source": [
    "So the final complexity is: \n",
    "\n",
    "O(n / (f(k))\n",
    "\n",
    "Where f(k) is:\n",
    "\n",
    "(k/ln(k))   \n",
    "П(a(k) if a(k) is prime)   \n",
    "k = 2   \n",
    "\n",
    "And where k is upper bound of the interval of necessary divisors.\n",
    " "
   ]
  },
  {
   "cell_type": "code",
   "execution_count": null,
   "metadata": {},
   "outputs": [],
   "source": [
    ""
   ]
  }
 ],
 "metadata": {
  "kernelspec": {
   "display_name": "Python 2",
   "language": "python",
   "name": "python2"
  },
  "language_info": {
   "codemirror_mode": {
    "name": "ipython",
    "version": 2.0
   },
   "file_extension": ".py",
   "mimetype": "text/x-python",
   "name": "python",
   "nbconvert_exporter": "python",
   "pygments_lexer": "ipython2",
   "version": "2.7.6"
  }
 },
 "nbformat": 4,
 "nbformat_minor": 0
}