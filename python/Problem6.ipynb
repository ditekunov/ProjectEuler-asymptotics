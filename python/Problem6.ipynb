{
 "cells": [
  {
   "cell_type": "markdown",
   "metadata": {
    "collapsed": true
   },
   "source": [
    "### Task 5: Sum square difference"
   ]
  },
  {
   "cell_type": "markdown",
   "metadata": {},
   "source": [
    "As usual, we'll start with O(N) bruteforce:"
   ]
  },
  {
   "cell_type": "code",
   "execution_count": 8,
   "metadata": {},
   "outputs": [
    {
     "name": "stdout",
     "output_type": "stream",
     "text": [
      "25164150\nTime in seconds:  0.00040030479431152344\n"
     ]
    }
   ],
   "source": [
    "import time \n",
    "\n",
    "start = time.time()\n",
    "\n",
    "square_sum = 0\n",
    "sum_of_squares = 0\n",
    "\n",
    "for i in range(1, 101):\n",
    "    square_sum += i\n",
    "    sum_of_squares += i*i\n",
    "    \n",
    "square_sum = square_sum * square_sum\n",
    "\n",
    "print(square_sum - sum_of_squares)\n",
    "\n",
    "finish = time.time() - start\n",
    "print(\"Time in seconds: \", finish)"
   ]
  },
  {
   "cell_type": "markdown",
   "metadata": {},
   "source": [
    "But let's turn to a math background of a square of a sum:\n",
    "\n",
    "pow(a+b) = pow(a) + pow(b) + 2ab\n",
    "\n",
    "This works for any number of terms, so the difference we need:\n",
    "\n",
    "* for N=2 is 2ab\n",
    "\n",
    "* for N=4 is 2ab + 2ac + 2ad + 2bc + 2bd + 2cd\n",
    "\n",
    "* for N=100 is 2(a(b+c+d+...) + b(c+d+)...)\n",
    "\n",
    "Let's implement that:"
   ]
  },
  {
   "cell_type": "code",
   "execution_count": 28,
   "metadata": {},
   "outputs": [],
   "source": [
    "def sm(n):\n",
    "    return sum(range(1, n))\n",
    "\n",
    "\n",
    "total = 0\n",
    "N = 101\n",
    "\n",
    "for i in range(1, N):\n",
    "    total += (i * sm(i))\n",
    "\n",
    "print(total * 2)"
   ]
  },
  {
   "cell_type": "markdown",
   "metadata": {},
   "source": [
    "Which gives as the following results:   \n",
    "25164150   \n",
    "Time in seconds:  0.00034499168395996094   \n",
    "\n",
    "But, unfortunately, this solution is even more complex, though it takes about O(n^2) speed, so let's try another way:\n",
    "\n",
    "The formula of the natural numbers sum in [1,N] is (N*(N+1))/2    \n",
    "\n",
    "And the formula of the sum of squares is (N(N+1)(2N+1))/6, so we just need to:"
   ]
  },
  {
   "cell_type": "code",
   "execution_count": 30,
   "metadata": {},
   "outputs": [
    {
     "name": "stdout",
     "output_type": "stream",
     "text": [
      "25164150.0\n"
     ]
    }
   ],
   "source": [
    "sm = 100 * (100+1)/ 2\n",
    "squared = (100 * (100 + 1) * (2 * 100 + 1)) / 6\n",
    "\n",
    "result = sm * sm - squared\n",
    " \n",
    "print(result)"
   ]
  },
  {
   "cell_type": "markdown",
   "metadata": {},
   "source": [
    "And this solution is also O(1), which is best-case perfomance for us."
   ]
  }
 ],
 "metadata": {
  "kernelspec": {
   "display_name": "Python 2",
   "language": "python",
   "name": "python2"
  },
  "language_info": {
   "codemirror_mode": {
    "name": "ipython",
    "version": 2.0
   },
   "file_extension": ".py",
   "mimetype": "text/x-python",
   "name": "python",
   "nbconvert_exporter": "python",
   "pygments_lexer": "ipython2",
   "version": "2.7.6"
  }
 },
 "nbformat": 4,
 "nbformat_minor": 0
}
