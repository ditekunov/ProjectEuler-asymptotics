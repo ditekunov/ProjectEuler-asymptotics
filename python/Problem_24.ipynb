{
 "cells": [
  {
   "cell_type": "markdown",
   "metadata": {
    "collapsed": true
   },
   "source": [
    "### Task 24: Lexicographic permutations"
   ]
  },
  {
   "cell_type": "markdown",
   "metadata": {},
   "source": [
    "In case that python has own function for permutation and sorting, the solution will be quite easy to implement, and it will have O(N!) complexity:"
   ]
  },
  {
   "cell_type": "code",
   "execution_count": 1,
   "metadata": {},
   "outputs": [
    {
     "name": "stdout",
     "output_type": "stream",
     "text": [
      "2783915460\n"
     ]
    }
   ],
   "source": [
    "from itertools import permutations\n",
    "\n",
    "\n",
    "def generatePermutations():\n",
    "    perms = [''.join(p) for p in permutations('0123456789', 10)]\n",
    "    return perms\n",
    "\n",
    "\n",
    "list_of_perms = list(map(lambda x: int(x), generatePermutations()))\n",
    "\n",
    "print((sorted(list_of_perms))[999999])"
   ]
  },
  {
   "cell_type": "markdown",
   "metadata": {},
   "source": []
  }
 ],
 "metadata": {
  "kernelspec": {
   "display_name": "Python 2",
   "language": "python",
   "name": "python2"
  },
  "language_info": {
   "codemirror_mode": {
    "name": "ipython",
    "version": 2
   },
   "file_extension": ".py",
   "mimetype": "text/x-python",
   "name": "python",
   "nbconvert_exporter": "python",
   "pygments_lexer": "ipython2",
   "version": "2.7.6"
  }
 },
 "nbformat": 4,
 "nbformat_minor": 0
}
