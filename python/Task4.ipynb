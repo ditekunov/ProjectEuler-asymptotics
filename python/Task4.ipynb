{
 "cells": [
  {
   "cell_type": "markdown",
   "metadata": {
    "collapsed": true
   },
   "source": [
    "Task 4: Largest palindrome product"
   ]
  },
  {
   "cell_type": "markdown",
   "metadata": {},
   "source": [
    "As always, we'll try with the brute force algorithm, that has ~O(n^2) complexity, but still works pretty fast:"
   ]
  },
  {
   "cell_type": "code",
   "execution_count": 27,
   "metadata": {},
   "outputs": [
    {
     "name": "stdout",
     "output_type": "stream",
     "text": [
      "906609\nTime in seconds:  0.7557618618011475\n"
     ]
    }
   ],
   "source": [
    "import time\n",
    " \n",
    "start = time.time()\n",
    "\n",
    "max_palindrome = 0\n",
    "\n",
    "for i in range(100, 1000):\n",
    "    for j in range(100, 1000):\n",
    "        if str(i*j) == str(i*j)[::-1] and i*j > max_palindrome:\n",
    "            max_palindrome = i*j\n",
    "            \n",
    "finish = time.time() - start\n",
    "\n",
    "print(max_palindrome)\n",
    "print(\"Time in seconds: \", finish)"
   ]
  },
  {
   "cell_type": "markdown",
   "metadata": {},
   "source": [
    "But we'll try to improve it.\n",
    "\n",
    "Firstly, we'll implement an obvious way to find MAX value, by running the cycle downwards.\n",
    "\n",
    "Let's record the speed to track, that the time improved."
   ]
  },
  {
   "cell_type": "code",
   "execution_count": 11,
   "metadata": {},
   "outputs": [
    {
     "name": "stdout",
     "output_type": "stream",
     "text": [
      "906609\n0.17235779762268066\n"
     ]
    }
   ],
   "source": [
    "import time\n",
    " \n",
    "start = time.time()\n",
    "\n",
    "max_palindrome = 0\n",
    "\n",
    "for i in range(999, 800, -1):\n",
    "    for j in range(999, 99, -1):\n",
    "        if str(i*j) == str(i*j)[::-1] and i*j > max_palindrome:\n",
    "            max_palindrome = i*j\n",
    "            \n",
    "finish = time.time() - start\n",
    "\n",
    "print(max_palindrome)\n",
    "print(finish)"
   ]
  },
  {
   "cell_type": "markdown",
   "metadata": {},
   "source": [
    "Unfortunately, I cannot find another way to improve the solution, so the final complexity I could obtain is just O(n^2)."
   ]
  },
  {
   "cell_type": "code",
   "execution_count": null,
   "metadata": {},
   "outputs": [],
   "source": []
  }
 ],
 "metadata": {
  "kernelspec": {
   "display_name": "Python 2",
   "language": "python",
   "name": "python2"
  },
  "language_info": {
   "codemirror_mode": {
    "name": "ipython",
    "version": 2
   },
   "file_extension": ".py",
   "mimetype": "text/x-python",
   "name": "python",
   "nbconvert_exporter": "python",
   "pygments_lexer": "ipython2",
   "version": "2.7.6"
  }
 },
 "nbformat": 4,
 "nbformat_minor": 0
}
