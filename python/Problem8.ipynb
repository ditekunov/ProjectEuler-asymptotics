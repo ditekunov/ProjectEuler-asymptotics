{
 "cells": [
  {
   "cell_type": "markdown",
   "metadata": {
    "collapsed": true
   },
   "source": [
    "### Task 8: Largest product in a series"
   ]
  },
  {
   "cell_type": "markdown",
   "metadata": {},
   "source": [
    "As always, let's start with basic brute force with a 'window' of 13 numbers:"
   ]
  },
  {
   "cell_type": "code",
   "execution_count": 9,
   "metadata": {},
   "outputs": [
    {
     "name": "stdout",
     "output_type": "stream",
     "text": [
      "23514624000\n"
     ]
    }
   ],
   "source": [
    "raw_list_of_nums = list(\"\"\"73167176531330624919225119674426574742355349194934\n",
    "96983520312774506326239578318016984801869478851843\n",
    "85861560789112949495459501737958331952853208805511\n",
    "12540698747158523863050715693290963295227443043557\n",
    "66896648950445244523161731856403098711121722383113\n",
    "62229893423380308135336276614282806444486645238749\n",
    "30358907296290491560440772390713810515859307960866\n",
    "70172427121883998797908792274921901699720888093776\n",
    "65727333001053367881220235421809751254540594752243\n",
    "52584907711670556013604839586446706324415722155397\n",
    "53697817977846174064955149290862569321978468622482\n",
    "83972241375657056057490261407972968652414535100474\n",
    "82166370484403199890008895243450658541227588666881\n",
    "16427171479924442928230863465674813919123162824586\n",
    "17866458359124566529476545682848912883142607690042\n",
    "24219022671055626321111109370544217506941658960408\n",
    "07198403850962455444362981230987879927244284909188\n",
    "84580156166097919133875499200524063689912560717606\n",
    "05886116467109405077541002256983155200055935729725\n",
    "71636269561882670428252483600823257530420752963450\"\"\")\n",
    "\n",
    "list_of_nums = list(filter(lambda x: x != '\\n', raw_list_of_nums))\n",
    "\n",
    "list_of_nums = list(map(lambda x: int(x), list_of_nums))\n",
    "\n",
    "max_prod = 0\n",
    "i = 12\n",
    "while i < len(list_of_nums):\n",
    "    if list_of_nums[i] * list_of_nums[i - 1] * list_of_nums[i - 2] * list_of_nums[i - 3] * \\\n",
    "            list_of_nums[i - 4] * list_of_nums[i - 5] * list_of_nums[i - 6] * list_of_nums[i - 7] * \\\n",
    "            list_of_nums[i - 8] * list_of_nums[i - 9] * list_of_nums[i - 10] * list_of_nums[i - 11] * \\\n",
    "            list_of_nums[i - 12] > max_prod:\n",
    "        \n",
    "        max_prod = list_of_nums[i] * list_of_nums[i - 1] * list_of_nums[i - 2] * list_of_nums[i - 3] * \\\n",
    "                   list_of_nums[i - 4] * list_of_nums[i - 5] * list_of_nums[i - 6] * list_of_nums[i - 7] * \\\n",
    "                   list_of_nums[i - 8] * list_of_nums[i - 9] * list_of_nums[i - 10] * list_of_nums[i - 11] * \\\n",
    "                   list_of_nums[i - 12]\n",
    "    i += 1\n",
    "print(max_prod)"
   ]
  },
  {
   "cell_type": "markdown",
   "metadata": {},
   "source": [
    "This algorithm has an O(N) speed and the only improvement I can see is to remove all elements around zeroes in range [i-12, i] and [i, i+12] where i is a zero, which could reduce the number of possible eleme\n"
   ]
  },
  {
   "cell_type": "code",
   "execution_count": 11,
   "metadata": {},
   "outputs": [],
   "source": [
    ""
   ]
  },
  {
   "cell_type": "code",
   "execution_count": null,
   "metadata": {},
   "outputs": [],
   "source": []
  }
 ],
 "metadata": {
  "kernelspec": {
   "display_name": "Python 2",
   "language": "python",
   "name": "python2"
  },
  "language_info": {
   "codemirror_mode": {
    "name": "ipython",
    "version": 2
   },
   "file_extension": ".py",
   "mimetype": "text/x-python",
   "name": "python",
   "nbconvert_exporter": "python",
   "pygments_lexer": "ipython2",
   "version": "2.7.6"
  }
 },
 "nbformat": 4,
 "nbformat_minor": 0
}
