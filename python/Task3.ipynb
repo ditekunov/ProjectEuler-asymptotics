{
 "cells": [
  {
   "cell_type": "markdown",
   "metadata": {
    "collapsed": true
   },
   "source": [
    "Task 3: Largest prime factor"
   ]
  },
  {
   "cell_type": "markdown",
   "metadata": {},
   "source": [
    "This time we are dealing with a prime factorization problem and most of \"naive\" factorization algorithms are not very effective, so we cannot use bruteforce this time, so, at first, we'll try to improve it. \n",
    "\n",
    "This is primitive realisation of a naive factorization algorithm, that has O(∑(Ni)) complexity:"
   ]
  },
  {
   "cell_type": "code",
   "execution_count": null,
   "metadata": {},
   "outputs": [],
   "source": [
    "def is_prime(N):\n",
    "    for i in range(2, N):\n",
    "        if N % i == 0:\n",
    "            return False\n",
    "    return True\n",
    "        \n",
    "\n",
    "def greatest_prime(N):   \n",
    "    max_prime = 1    \n",
    "    for i in range(2, N):\n",
    "        if N % i == 0 and is_prime(i):\n",
    "            max_prime = i\n",
    "    return max_prime    \n",
    "        \n",
    "\n",
    "print(greatest_prime(600851475143))        \n"
   ]
  },
  {
   "cell_type": "markdown",
   "metadata": {},
   "source": [
    "Firstly, we need to decrease the upper bound of each cycle to sqrt(N), cause there are no natural divisors of a number, that exceed sqrt(N).\n",
    "\n",
    "And we get an algorithm with O(∑(sqrt(Ni))) complexity, that already able to compute required number quickly:"
   ]
  },
  {
   "cell_type": "code",
   "execution_count": 2,
   "metadata": {},
   "outputs": [
    {
     "name": "stdout",
     "output_type": "stream",
     "text": [
      "6857\n"
     ]
    }
   ],
   "source": [
    "import math\n",
    "\n",
    "\n",
    "def is_prime(N):\n",
    "    for i in range(2, int((math.sqrt(N)))+1):\n",
    "        if N % i == 0:\n",
    "            return False\n",
    "\n",
    "    return True\n",
    "\n",
    "\n",
    "def greatest_prime(N):\n",
    "    max_prime = 1\n",
    "    for i in range(2, int((math.sqrt(N)))+1):\n",
    "        if N % i == 0 and is_prime(i):\n",
    "            max_prime = i\n",
    "    return max_prime\n",
    "\n",
    "\n",
    "print(greatest_prime(600851475143))"
   ]
  },
  {
   "cell_type": "markdown",
   "metadata": {},
   "source": [
    "But we'll try to implement an algorithm called \"Eratosthenes sieve\", that has O(n*log(log n)) complexity and can effictively help us find factorization of big integers.\n",
    "\n",
    "Here is one of the implementations:"
   ]
  },
  {
   "cell_type": "code",
   "execution_count": 1,
   "metadata": {},
   "outputs": [
    {
     "name": "stdout",
     "output_type": "stream",
     "text": [
      "6857\n"
     ]
    }
   ],
   "source": [
    "import math\n",
    "\n",
    "def eratosthenes(n):\n",
    "    sieve = list(range(n + 1))\n",
    "    sieve[1] = 0\n",
    "    for i in sieve:\n",
    "        if i > 1:\n",
    "            for j in range(i + i, len(sieve), i):\n",
    "                sieve[j] = 0\n",
    "    return sieve\n",
    "\n",
    "\n",
    "outcome_primes = list(filter(lambda x: x != 0, eratosthenes(int(math.sqrt(600851475143))+1)))\n",
    "\n",
    "\n",
    "for i in outcome_primes:\n",
    "    if 600851475143 % i == 0:\n",
    "        max_prime = i\n",
    "\n",
    "print(max_prime)"
   ]
  },
  {
   "cell_type": "code",
   "execution_count": null,
   "metadata": {},
   "outputs": [],
   "source": []
  }
 ],
 "metadata": {
  "kernelspec": {
   "display_name": "Python 2",
   "language": "python",
   "name": "python2"
  },
  "language_info": {
   "codemirror_mode": {
    "name": "ipython",
    "version": 2
   },
   "file_extension": ".py",
   "mimetype": "text/x-python",
   "name": "python",
   "nbconvert_exporter": "python",
   "pygments_lexer": "ipython2",
   "version": "2.7.6"
  }
 },
 "nbformat": 4,
 "nbformat_minor": 0
}
