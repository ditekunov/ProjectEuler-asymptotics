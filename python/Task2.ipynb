{
 "cells": [
  {
   "cell_type": "markdown",
   "metadata": {
    "collapsed": true
   },
   "source": [
    "Task 2: Even Fibonacci numbers."
   ]
  },
  {
   "cell_type": "markdown",
   "metadata": {},
   "source": [
    "This time we'll also start with bruteforce using non-recursive algorithm in case that python cannot optimize tail recursion. \n",
    "\n",
    "Basic implementation:"
   ]
  },
  {
   "cell_type": "code",
   "execution_count": 1,
   "metadata": {},
   "outputs": [
    {
     "name": "stdout",
     "output_type": "stream",
     "text": [
      "4613732\n"
     ]
    }
   ],
   "source": [
    "firstFibonacci = 1\n",
    "\n",
    "secondFibonacci = 1\n",
    "\n",
    "sum_of_even_fibonacci = 0\n",
    "\n",
    "while secondFibonacci <= 4000000:\n",
    "    helper = firstFibonacci\n",
    "    firstFibonacci = secondFibonacci\n",
    "    secondFibonacci = firstFibonacci + helper\n",
    "\n",
    "    if secondFibonacci % 2 == 0:\n",
    "        sum_of_even_fibonacci += secondFibonacci\n",
    "\n",
    "print(sum_of_even_fibonacci)"
   ]
  },
  {
   "cell_type": "markdown",
   "metadata": {},
   "source": [
    "This implementation gives us O(N) speed, but there is a way to do it with ~O(logN)\n",
    "\n",
    "We can achieve it by powering the matrixes with the following identity:\n",
    "\n",
    "(F(n-2), F(n-1)) * ([0,1[1,1]]) = (F(n-1), F(N))\n",
    "\n",
    "So the implementation is something like this:"
   ]
  },
  {
   "cell_type": "code",
   "execution_count": 1,
   "metadata": {},
   "outputs": [
    {
     "name": "stdout",
     "output_type": "stream",
     "text": [
      "4613732\n"
     ]
    }
   ],
   "source": [
    "def generate_fibonacci(N):\n",
    "    basis_a = 1\n",
    "\n",
    "    basis_b = 1\n",
    "\n",
    "    basis_c = 1\n",
    "\n",
    "    basis_d = 0\n",
    "\n",
    "    rc = 0\n",
    "\n",
    "    rd = 1\n",
    "\n",
    "    while N != 0:\n",
    "        if N & 1:\n",
    "            tc = rc\n",
    "            rc = rc * basis_a + rd * basis_c\n",
    "            rd = tc * basis_b + rd * basis_d\n",
    "\n",
    "        ta = basis_a\n",
    "        tb = basis_b\n",
    "        tc = basis_c\n",
    "\n",
    "        basis_a = basis_a * basis_a + basis_b * basis_c\n",
    "        basis_b = ta * basis_b + basis_b * basis_d\n",
    "        basis_c = basis_c * ta + basis_d * basis_c\n",
    "        basis_d = tc * tb + basis_d * basis_d\n",
    "\n",
    "        N >>= 1\n",
    "    return rc\n",
    "\n",
    "total_sum = 0\n",
    "\n",
    "for i in range(0, 100):\n",
    "    fib = generate_fibonacci(i)\n",
    "    if fib <= 4000000 and fib % 2 == 0:\n",
    "        total_sum += fib\n",
    "\n",
    "print(total_sum)"
   ]
  },
  {
   "cell_type": "code",
   "execution_count": null,
   "metadata": {},
   "outputs": [],
   "source": []
  }
 ],
 "metadata": {
  "kernelspec": {
   "display_name": "Python 2",
   "language": "python",
   "name": "python2"
  },
  "language_info": {
   "codemirror_mode": {
    "name": "ipython",
    "version": 2
   },
   "file_extension": ".py",
   "mimetype": "text/x-python",
   "name": "python",
   "nbconvert_exporter": "python",
   "pygments_lexer": "ipython2",
   "version": "2.7.6"
  }
 },
 "nbformat": 4,
 "nbformat_minor": 0
}
