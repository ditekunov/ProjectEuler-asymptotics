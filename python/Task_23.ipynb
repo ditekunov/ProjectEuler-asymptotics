{
 "cells": [
  {
   "cell_type": "markdown",
   "metadata": {
    "collapsed": true
   },
   "source": [
    "### Task 23: Non-abundant sums"
   ]
  },
  {
   "cell_type": "markdown",
   "metadata": {},
   "source": [
    "Firstly, let's try to cache all the abundant numbers, that are less than 28123 and brute force the answer:"
   ]
  },
  {
   "cell_type": "code",
   "execution_count": 1,
   "metadata": {},
   "outputs": [
    {
     "name": "stdout",
     "output_type": "stream",
     "text": [
      "4179871\n"
     ]
    }
   ],
   "source": [
    "def factorization(n):\n",
    "    divisors = list()\n",
    "    for j in range(1, int(n/2+1)):\n",
    "        if n % j == 0:\n",
    "            divisors.append(j)\n",
    "    return divisors\n",
    "\n",
    "\n",
    "abundant = list()\n",
    "\n",
    "for i in range(2, 28123):\n",
    "    if sum(factorization(i)) > i:\n",
    "        abundant.append(i)\n",
    "\n",
    "abundant_sums = set()\n",
    "\n",
    "for j in abundant:\n",
    "    for k in abundant:\n",
    "        if j+k <= 28123:\n",
    "            abundant_sums.add(j+k)\n",
    "\n",
    "total = 0\n",
    "for i in range(1, 28124):\n",
    "    if not abundant_sums.__contains__(i):\n",
    "        total += i\n",
    "\n",
    "print(total)"
   ]
  },
  {
   "cell_type": "markdown",
   "metadata": {},
   "source": [
    "Let's try to analyze this solution's complexity:\n",
    "\n",
    "Function of factorization is O(n/2), it appends to each operation in a list(2, n) which is O((N^2)/2), which is equal to O(N^2)\n",
    "\n",
    "after that, we also use two-cycled algorithm, which searches in a list of abundant, that can be also interpreted as O(N^2), divisible by some constant. And finally, search in a set is O(N).\n",
    "\n",
    "So we have O( sqr(N)/2 + sqr(N) + O(N) ) which is equal to Ω(N^2)"
   ]
  },
  {
   "cell_type": "code",
   "execution_count": null,
   "metadata": {},
   "outputs": [],
   "source": []
  }
 ],
 "metadata": {
  "kernelspec": {
   "display_name": "Python 2",
   "language": "python",
   "name": "python2"
  },
  "language_info": {
   "codemirror_mode": {
    "name": "ipython",
    "version": 2
   },
   "file_extension": ".py",
   "mimetype": "text/x-python",
   "name": "python",
   "nbconvert_exporter": "python",
   "pygments_lexer": "ipython2",
   "version": "2.7.6"
  }
 },
 "nbformat": 4,
 "nbformat_minor": 0
}
