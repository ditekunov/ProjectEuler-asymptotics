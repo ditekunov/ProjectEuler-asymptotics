{
 "cells": [
  {
   "cell_type": "markdown",
   "metadata": {
    "collapsed": true
   },
   "source": [
    "### Task 12: Highly divisible triangular number"
   ]
  },
  {
   "cell_type": "markdown",
   "metadata": {},
   "source": [
    "We cannot use brute force in this task, in case that it has O(N^3) complexity and will compute the answer for too long to use it comfortable, so we'll start with a mathematic background of this task:\n",
    "\n",
    "\n",
    "If T(n) is the n-th triangular number, then we know that\n",
    "\n",
    "T(n) = n(n+1)/2\n",
    "\n",
    "Then, the factorisation of the n and n+1 are:\n",
    "\n",
    "n = p1^e1 * p2^e2... and n+1 = q1^f1 * q2^f2...\n",
    "\n",
    "Then, the factorisation will be:\n",
    "\n",
    "(e1)(e2+1)⋯(es+1)(f1+1)(f2+1)⋯(ft+1) = e1 * П(ei+1) * П(fi+1)\n",
    "\n",
    "Let's implement that:"
   ]
  },
  {
   "cell_type": "code",
   "execution_count": 13,
   "metadata": {},
   "outputs": [
    {
     "name": "stdout",
     "output_type": "stream",
     "text": [
      "76576500.0\n1.7088687419891357\n"
     ]
    }
   ],
   "source": [
    "import time\n",
    " \n",
    "def num_divisors(n):\n",
    "    if n % 2 == 0: n = n/2\n",
    "    divisors = 1\n",
    "    count = 0\n",
    "    while n % 2 == 0:\n",
    "        count += 1\n",
    "        n = n/2\n",
    "    divisors = divisors * (count + 1)\n",
    "    p = 3\n",
    "    while n != 1:\n",
    "        count = 0\n",
    "        while n % p == 0:\n",
    "            count += 1\n",
    "            n = n/p\n",
    "        divisors = divisors * (count + 1)\n",
    "        p += 2\n",
    "    return divisors\n",
    " \n",
    "def find_triangular_index(factor_limit):\n",
    "    n = 1\n",
    "    lnum, rnum = num_divisors(n), num_divisors(n+1)\n",
    "    while lnum * rnum < 500:\n",
    "        n += 1\n",
    "        lnum, rnum = rnum, num_divisors(n+1)\n",
    "    return n\n",
    " \n",
    "start = time.time()\n",
    "index = find_triangular_index(500)\n",
    "triangle = (index * (index + 1)) / 2\n",
    "finish = time.time() - start\n",
    "\n",
    "print(triangle)\n",
    "print(finish)"
   ]
  },
  {
   "cell_type": "markdown",
   "metadata": {},
   "source": [
    "So we've got O(N^3) complexity."
   ]
  }
 ],
 "metadata": {
  "kernelspec": {
   "display_name": "Python 2",
   "language": "python",
   "name": "python2"
  },
  "language_info": {
   "codemirror_mode": {
    "name": "ipython",
    "version": 2.0
   },
   "file_extension": ".py",
   "mimetype": "text/x-python",
   "name": "python",
   "nbconvert_exporter": "python",
   "pygments_lexer": "ipython2",
   "version": "2.7.6"
  }
 },
 "nbformat": 4,
 "nbformat_minor": 0
}