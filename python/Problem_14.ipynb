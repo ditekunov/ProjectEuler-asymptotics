{
 "cells": [
  {
   "cell_type": "markdown",
   "metadata": {
    "collapsed": true
   },
   "source": [
    "### Problem 14: Longest Collatz sequence"
   ]
  },
  {
   "cell_type": "markdown",
   "metadata": {},
   "source": [
    "Let's start with a simple algorithms, that generates Collatz chain for each number, which is really slow, but good to start with:"
   ]
  },
  {
   "cell_type": "code",
   "execution_count": 1,
   "metadata": {},
   "outputs": [
    {
     "name": "stdout",
     "output_type": "stream",
     "text": [
      "525 Took  29.19510293006897 seconds\n"
     ]
    }
   ],
   "source": [
    "import time\n",
    " \n",
    "start = time.time()\n",
    " \n",
    " \n",
    "def collatz(n, count=1):\n",
    "    while n > 1:\n",
    "        count += 1\n",
    "        if n % 2 == 0:\n",
    "            n = n/2\n",
    "        else:\n",
    "            n = 3*n + 1\n",
    "    return count\n",
    " \n",
    " \n",
    "max = [0,0]\n",
    "for i in range(1000000):\n",
    "    c = collatz(i)\n",
    "    if c > max[0]:\n",
    "        max[0] = c\n",
    "        max[1] = i\n",
    " \n",
    "finish = (time.time() - start)\n",
    "print(max[0], \"Took \", finish, \"seconds\")\n"
   ]
  },
  {
   "cell_type": "markdown",
   "metadata": {},
   "source": [
    "This solution has ~ Ω(N) complexity and can be improved by caching numbers, that were already counted:"
   ]
  },
  {
   "cell_type": "code",
   "execution_count": 5,
   "metadata": {},
   "outputs": [
    {
     "name": "stdout",
     "output_type": "stream",
     "text": [
      "525 Found in 3.993990898132324 seconds\n"
     ]
    }
   ],
   "source": [
    "import time\n",
    "\n",
    "start = time.time()\n",
    "\n",
    "limit = 1000000\n",
    "collatz_length = [0] * limit\n",
    "collatz_length[1] = 1\n",
    "max_length = [1, 1]\n",
    "\n",
    "for i in range(1, 1000000):\n",
    "    n = i\n",
    "    s = 0\n",
    "    cache = []\n",
    "    while n > limit - 1 or collatz_length[int(n)] < 1:\n",
    "        cache.append(n)\n",
    "        if n % 2 == 0:\n",
    "            n = n / 2\n",
    "        else:\n",
    "            n = 3 * n + 1\n",
    "        s += 1\n",
    "    p = collatz_length[int(n)]\n",
    "    for j in range(s):\n",
    "        m = cache[j]\n",
    "        if m < limit:\n",
    "            new_length = collatz_length[int(n)] + s - j\n",
    "            collatz_length[int(m)] = new_length\n",
    "            if new_length > max_length[1]:\n",
    "                max_length = [i, new_length]\n",
    "\n",
    "finish = (time.time() - start)\n",
    "\n",
    "print(max_length[1], \"Found in\", finish, \"seconds\")"
   ]
  },
  {
   "cell_type": "markdown",
   "metadata": {},
   "source": [
    "This algorithm has O(N) complexity, but it is much faster, so we can use it as a final solution."
   ]
  },
  {
   "cell_type": "code",
   "execution_count": null,
   "metadata": {},
   "outputs": [],
   "source": []
  }
 ],
 "metadata": {
  "kernelspec": {
   "display_name": "Python 2",
   "language": "python",
   "name": "python2"
  },
  "language_info": {
   "codemirror_mode": {
    "name": "ipython",
    "version": 2
   },
   "file_extension": ".py",
   "mimetype": "text/x-python",
   "name": "python",
   "nbconvert_exporter": "python",
   "pygments_lexer": "ipython2",
   "version": "2.7.6"
  }
 },
 "nbformat": 4,
 "nbformat_minor": 0
}
