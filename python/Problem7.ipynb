{
 "cells": [
  {
   "cell_type": "markdown",
   "metadata": {
    "collapsed": true
   },
   "source": [
    "### Problem 7: 10001st prime"
   ]
  },
  {
   "cell_type": "markdown",
   "metadata": {},
   "source": [
    "I wil not implement brute force here, as this task is similar to Task 3, so let's just implement Eratosthenes sieve algorithm to obtain O(n*log(log n)) complexity."
   ]
  },
  {
   "cell_type": "code",
   "execution_count": 8,
   "metadata": {},
   "outputs": [
    {
     "name": "stdout",
     "output_type": "stream",
     "text": [
      "104759\n"
     ]
    }
   ],
   "source": [
    "import math\n",
    "\n",
    "\n",
    "def eratosthenes(n):\n",
    "    sieve = list(range(n + 1))\n",
    "    sieve[1] = 0\n",
    "    for i in sieve:\n",
    "        if i > 1:\n",
    "            for j in range(i + i, len(sieve), i):\n",
    "                sieve[j] = 0\n",
    "    return sieve\n",
    "\n",
    "outcome_primes = list(filter(lambda x: x != 0, eratosthenes(150000)))\n",
    "\n",
    "print(outcome_primes[10001])"
   ]
  },
  {
   "cell_type": "code",
   "execution_count": null,
   "metadata": {},
   "outputs": [],
   "source": [
    ""
   ]
  }
 ],
 "metadata": {
  "kernelspec": {
   "display_name": "Python 2",
   "language": "python",
   "name": "python2"
  },
  "language_info": {
   "codemirror_mode": {
    "name": "ipython",
    "version": 2.0
   },
   "file_extension": ".py",
   "mimetype": "text/x-python",
   "name": "python",
   "nbconvert_exporter": "python",
   "pygments_lexer": "ipython2",
   "version": "2.7.6"
  }
 },
 "nbformat": 4,
 "nbformat_minor": 0
}
