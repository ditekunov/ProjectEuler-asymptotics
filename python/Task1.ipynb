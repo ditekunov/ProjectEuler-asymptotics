{
 "cells": [
  {
   "cell_type": "markdown",
   "metadata": {},
   "source": [
    "Task 1: Multiples of 3 and 5"
   ]
  },
  {
   "cell_type": "markdown",
   "metadata": {},
   "source": [
    "Primitive way to find all multiples is to simply bruteforce all the numbers below 1000."
   ]
  },
  {
   "cell_type": "code",
   "execution_count": 1,
   "metadata": {},
   "outputs": [
    {
     "name": "stdout",
     "output_type": "stream",
     "text": [
      "233168\n"
     ]
    }
   ],
   "source": [
    "total_sum = 0\n",
    "\n",
    "for i in range(1, 1000):\n",
    "    if i % 3 == 0 or i % 5 == 0:\n",
    "        total_sum += i\n",
    "print(total_sum)"
   ]
  },
  {
   "cell_type": "markdown",
   "metadata": {},
   "source": [
    "This algorithm has O(N) complexity, which is quite good, but we can improve the constant value by reducing the number of steps in a cycle.\n"
   ]
  },
  {
   "cell_type": "markdown",
   "metadata": {},
   "source": [
    "So we can try to make two cycles with own size of a step, which will reduce the number of steps:\n",
    "\n",
    "1000/3 = 333\n",
    "\n",
    "1000/5 = 200\n",
    "\n",
    "Which gives us 200+333 = 533 steps in constadistiction to 1000 in the previous example AND we do not need to complete any divisions AND we only need to compare (N/5) values in a second cycle to prevent repeating values.\n",
    "\n",
    "It gives us O(8*N/15) or ~O(0.53N) complexity and absence of necessity to complete divisions. \n"
   ]
  },
  {
   "cell_type": "code",
   "execution_count": 9,
   "metadata": {},
   "outputs": [
    {
     "name": "stdout",
     "output_type": "stream",
     "text": [
      "233168\n"
     ]
    }
   ],
   "source": [
    "total_sum = 0\n",
    "i = 0\n",
    "\n",
    "while i < 997:\n",
    "    i += 3\n",
    "    total_sum += i\n",
    "\n",
    "i = 0\n",
    "\n",
    "while i < 995:\n",
    "    i += 5\n",
    "    if i % 3 != 0:\n",
    "        total_sum += i\n",
    "\n",
    "print(total_sum)"
   ]
  },
  {
   "cell_type": "markdown",
   "metadata": {},
   "source": [
    "And finally, we can come up with a solution, that has O(1) complexity, based on a math background of a sum of numbers that are divisible by N.\n",
    "      \n",
    " ((total-1)/N)∑(i=1){N*i} or N * ((total-1)/N)∑(i=1){i}\n",
    "   \n",
    "Which allows us to find the number of divisors of 3 and 5 with repeats.\n",
    "\n",
    "But we also need to remove repeats, that are divisors of 15.\n",
    "\n",
    "Like this:"
   ]
  },
  {
   "cell_type": "code",
   "execution_count": null,
   "metadata": {},
   "outputs": [],
   "source": [
    "total_sum = ((3*333*(333+1))/2) + ((5*199*(199+1))/2) - ((15*66*(66+1))/2)"
   ]
  }
 ],
 "metadata": {
  "kernelspec": {
   "display_name": "Python 2",
   "language": "python",
   "name": "python2"
  },
  "language_info": {
   "codemirror_mode": {
    "name": "ipython",
    "version": 2
   },
   "file_extension": ".py",
   "mimetype": "text/x-python",
   "name": "python",
   "nbconvert_exporter": "python",
   "pygments_lexer": "ipython2",
   "version": "2.7.6"
  }
 },
 "nbformat": 4,
 "nbformat_minor": 0
}
